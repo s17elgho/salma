{
 "cells": [
  {
   "cell_type": "markdown",
   "metadata": {},
   "source": [
    "Introduction to Artificial Intelligence - TP1 - October 24th 2018 \n",
    "--\n",
    "\n",
    "At the end of this session, you will be able to : \n",
    "- Perform basic supervised learning tasks using sklearn\n",
    "- Generate PyRat Datasets for a supervised learning setting\n",
    "- Apply supervised learning on PyRat datasets "
   ]
  },
  {
   "cell_type": "code",
   "execution_count": 1,
   "metadata": {},
   "outputs": [],
   "source": [
    "# The tqdm package is useful to visualize progress with long computations. \n",
    "# Install it using pip \n",
    "import tqdm\n",
    "import matplotlib.pyplot as plt\n",
    "%matplotlib inline\n",
    "import numpy as np\n",
    "import ast\n",
    "import os"
   ]
  },
  {
   "cell_type": "markdown",
   "metadata": {},
   "source": [
    "Part 1 - Basics of machine learning using sklearn\n",
    "--"
   ]
  },
  {
   "cell_type": "markdown",
   "metadata": {},
   "source": [
    "sklearn is a very powerful package that implements most machine learning methods. sklearn also includes cross-validation procedures in order to prevent overfitting, many useful metrics and data manipulation techniques that enables very careful experimentations with machine learning. It is also very straightforward to use. We will introduce a few basic concepts of sklearn. "
   ]
  },
  {
   "cell_type": "markdown",
   "metadata": {},
   "source": [
    "First, it is very easy to simulate data with sklearn. "
   ]
  },
  {
   "cell_type": "code",
   "execution_count": 3,
   "metadata": {},
   "outputs": [],
   "source": [
    "from sklearn.datasets import make_blobs"
   ]
  },
  {
   "cell_type": "markdown",
   "metadata": {},
   "source": [
    "Use the function make_blobs to generate clouds of points with $d=2$, and visualize them using the function *scatter* from matplotlib.pyplot. You can generate as many samples as you want.\n",
    "\n",
    "You can generate several clouds of points using the argument centers. We recommend using random_state=0 so that your results are from the same distribution from our tests \n",
    "\n",
    "Vocabulary : n_samples is the number of generated samples, n_features is $d$ (number of dimensions), centers are the number of classes. \n",
    "\n",
    "hint : you can use the output \"y\" as an argument for the color argument (\"c\") of the scatter function"
   ]
  },
  {
   "cell_type": "code",
   "execution_count": 20,
   "metadata": {
    "scrolled": true
   },
   "outputs": [
    {
     "data": {
      "text/plain": [
       "<matplotlib.collections.PathCollection at 0x7f11511a0668>"
      ]
     },
     "execution_count": 20,
     "metadata": {},
     "output_type": "execute_result"
    },
    {
     "data": {
      "image/png": "[encoded data removed]",
      "text/plain": [
       "<Figure size 432x288 with 1 Axes>"
      ]
     },
     "metadata": {},
     "output_type": "display_data"
    }
   ],
   "source": [
    "### CELL TO BE COMPLETED - generate blobs\n",
    "cloud = make_blobs(n_samples=100, n_features=2, centers=3)\n",
    "X=cloud[0]\n",
    "Y=cloud[1]\n",
    "plt.scatter(X[:,0],X[:,1], c=Y)\n"
   ]
  },
  {
   "cell_type": "code",
   "execution_count": 21,
   "metadata": {},
   "outputs": [],
   "source": [
    "### CELL TO BE COMPLETED -  plot\n",
    "### Don't forget to import pyplot and use %matplotlib inline\n"
   ]
  },
  {
   "cell_type": "markdown",
   "metadata": {},
   "source": [
    "You can use the other arguments from make_blobs in order to change the variance of the blobs, or the coordinates of their center. You can also experiment in higher dimension, although it becomes difficult to visualize. "
   ]
  },
  {
   "cell_type": "markdown",
   "metadata": {},
   "source": [
    "sklearn has many other data generators, as well as ways to load standard datasets of various sizes. Check them out here : \n",
    "\n",
    "http://scikit-learn.org/stable/datasets/index.html\n"
   ]
  },
  {
   "cell_type": "markdown",
   "metadata": {},
   "source": [
    "Now that we have generated a simple dataset, let's try to do a basic supervised learning approach. \n",
    "\n",
    "First, in order to mesure the model capability of generalizing, we will have to split the dataset into a training set and a test set. This split is also called cross validation. The test set is a part of your dataset that your model will not see during the training and will be used as a proxy for your \"real world\" examples.\n",
    "\n",
    "<center><img src=\"https://cdn-images-1.medium.com/max/1600/1*u03UsvBGwkYD4E7BObpcaw.png\"></center>\n",
    "<center><small>Image taken from https://towardsdatascience.com/machine-learning-workflow-on-diabetes-data-part-01-573864fcc6b8</small></center>"
   ]
  },
  {
   "cell_type": "markdown",
   "metadata": {},
   "source": [
    "Sklearn has functions to do so, with parameters controlling how to split the dataset so we are going to be showing how you should do. \n",
    "\n",
    "Use the train_test_split function in order to generate x_train,x_test, y_train, y_test, from the blobs we just generated, here we split the dataset in 80% train and 20% test. We use random_state = 0 so that the function always returns the same split."
   ]
  },
  {
   "cell_type": "code",
   "execution_count": 22,
   "metadata": {},
   "outputs": [],
   "source": [
    "from sklearn.model_selection import train_test_split\n",
    "\n",
    "#### CELL TO BE COMPLETED \n",
    "\n",
    "x_train, x_test, y_train, y_test = train_test_split(X, Y, test_size=0.33, random_state=0)"
   ]
  },
  {
   "cell_type": "markdown",
   "metadata": {},
   "source": [
    "Check the shapes of the generated vectors"
   ]
  },
  {
   "cell_type": "code",
   "execution_count": 23,
   "metadata": {},
   "outputs": [
    {
     "data": {
      "text/plain": [
       "((67, 2), (33, 2), (100, 2))"
      ]
     },
     "execution_count": 23,
     "metadata": {},
     "output_type": "execute_result"
    }
   ],
   "source": [
    "x_train.shape,x_test.shape,X.shape"
   ]
  },
  {
   "cell_type": "markdown",
   "metadata": {},
   "source": [
    "Let's use a K-Nearest Neighbor classifier to test whether we can classify this data. Create a <b>classifier</b>, train it using your <b> training set </b> and evaluate it by its <b>accuracy</b> on both <b>the train and test sets</b>. \n",
    "\n",
    "A k-nearest neighbor classifier (also known as KNN) is a method where for each object that you want to predict the class you look at the K (an hyperparameter) nearest examples from the training (using a distance metric, in our case the euclidean distance). This object is then classified by a majority vote from those neighbors, in other words the object is predicted with the most common class among its neighbours.\n",
    "\n",
    "To use a Nearest Neighbor with sklearn you have to use the class [KNeighborsClassifier](http://scikit-learn.org/stable/modules/generated/sklearn.neighbors.KNeighborsClassifier.html#sklearn.neighbors.KNeighborsClassifier).\n",
    "\n",
    "The sklearn API is consistent between the methods. This means that for almost every method they propose you can train it using [object.fit](http://scikit-learn.org/stable/modules/generated/sklearn.neighbors.KNeighborsClassifier.html#sklearn.neighbors.KNeighborsClassifier.fit), you can use it to make prediction with [object.predict](http://scikit-learn.org/stable/modules/generated/sklearn.neighbors.KNeighborsClassifier.html#sklearn.neighbors.KNeighborsClassifier.predict) and finally verify the <b>accuracy</b> of the method using [object.score](http://scikit-learn.org/stable/modules/generated/sklearn.neighbors.KNeighborsClassifier.html#sklearn.neighbors.KNeighborsClassifier.score)"
   ]
  },
  {
   "cell_type": "code",
   "execution_count": 24,
   "metadata": {},
   "outputs": [
    {
     "data": {
      "text/plain": [
       "1.0"
      ]
     },
     "execution_count": 24,
     "metadata": {},
     "output_type": "execute_result"
    }
   ],
   "source": [
    "from sklearn.neighbors import KNeighborsClassifier\n",
    "k = 1\n",
    "classifier = KNeighborsClassifier(n_neighbors=k,n_jobs=1)\n",
    "\n",
    "### CELL TO BE COMPLETED - train the classifier and get the accuracy in both sets.\n",
    "classifier.fit(x_train,y_train)\n",
    "y_pred=classifier.predict(x_test)\n",
    "classifier.score(x_test,y_test)\n"
   ]
  },
  {
   "cell_type": "markdown",
   "metadata": {},
   "source": [
    "Your classifier should have a train accuracy of 1, while the test accuracy should be high but not perfect.\n",
    "\n",
    "This is caused by the bias-variance trade-off. The 1NN classifier always has a bias of 0 (it perfectly classifies the training set) but it should have a high variance given that having one more example in the training set can completely change a decision.\n",
    "\n",
    "To try to avoid having such a high variance, test different values of k and plot the accuracies given the different values of the hyperparameter k. \n",
    "\n",
    "If you have time we advise you to do the same analysis but varying the train/test split size."
   ]
  },
  {
   "cell_type": "code",
   "execution_count": 25,
   "metadata": {},
   "outputs": [
    {
     "data": {
      "text/plain": [
       "[<matplotlib.lines.Line2D at 0x7f1151162390>]"
      ]
     },
     "execution_count": 25,
     "metadata": {},
     "output_type": "execute_result"
    },
    {
     "data": {
      "image/png": "[encoded data removed]",
      "text/plain": [
       "<Figure size 432x288 with 1 Axes>"
      ]
     },
     "metadata": {},
     "output_type": "display_data"
    }
   ],
   "source": [
    "train_acc = []\n",
    "test_acc = [] # list to add the test set accuracies\n",
    "test_ks = range(1,60)# list containing values of k to be tested\n",
    "\n",
    "# CELL TO BE COMPLETED - Train networks with varying k\n",
    "for k in test_ks:\n",
    "    classifier = KNeighborsClassifier(n_neighbors=k,n_jobs=1)\n",
    "    ### CELL TO BE COMPLETED - train the classifier and get the accuracy in both sets.\n",
    "    classifier.fit(x_train,y_train)\n",
    "    y_pred=classifier.predict(x_test)\n",
    "    test_acc.append(classifier.score(x_test,y_test))\n",
    "    train_acc.append(classifier.score(x_train,y_train))\n",
    "plt.plot(test_ks,train_acc,c='b')\n",
    "plt.plot(test_ks, test_acc, c='r')\n",
    "\n"
   ]
  },
  {
   "cell_type": "markdown",
   "metadata": {},
   "source": [
    "With the classifier trained, bias-variance analysed, it is now time to look at other metrics based on your results. It is important to remember that accuracy is a key metric, but it is not the <b> only </b> metric you should be focusing on.\n",
    "\n",
    "We are going to be printing a [classification report](http://scikit-learn.org/stable/modules/generated/sklearn.metrics.classification_report.html#sklearn.metrics.classification_report) and the [confusion matrix](http://scikit-learn.org/stable/modules/generated/sklearn.metrics.confusion_matrix.html#sklearn.metrics.confusion_matrix) for both the training and test sets\n",
    "\n",
    "In the classification report we are going to see 3 new metrics. They are really important because the accuracy does not show a complete portrait of your results.\n",
    "\n",
    "* Precision: What is the percentage of cases that your model was correct while predicting the given class\n",
    "* Recall: What is the percentage of cases that your model was correct when the example was a member of the given class.\n",
    "* F1 Score: The harmonic mean from precision and recall."
   ]
  },
  {
   "cell_type": "code",
   "execution_count": 26,
   "metadata": {},
   "outputs": [
    {
     "name": "stdout",
     "output_type": "stream",
     "text": [
      "Training Set:\n",
      "             precision    recall  f1-score   support\n",
      "\n",
      "          0       1.00      1.00      1.00        24\n",
      "          1       0.51      1.00      0.68        22\n",
      "          2       0.00      0.00      0.00        21\n",
      "\n",
      "avg / total       0.53      0.69      0.58        67\n",
      "\n",
      "[[24  0  0]\n",
      " [ 0 22  0]\n",
      " [ 0 21  0]]\n"
     ]
    },
    {
     "name": "stderr",
     "output_type": "stream",
     "text": [
      "/home/brain/miniconda3/lib/python3.6/site-packages/sklearn/metrics/classification.py:1135: UndefinedMetricWarning: Precision and F-score are ill-defined and being set to 0.0 in labels with no predicted samples.\n",
      "  'precision', 'predicted', average, warn_for)\n"
     ]
    },
    {
     "data": {
      "text/plain": [
       "Text(0,0.5,'Predicted class')"
      ]
     },
     "execution_count": 26,
     "metadata": {},
     "output_type": "execute_result"
    },
    {
     "data": {
      "image/png": "[encoded data removed]",
      "text/plain": [
       "<Figure size 288x288 with 2 Axes>"
      ]
     },
     "metadata": {},
     "output_type": "display_data"
    }
   ],
   "source": [
    "from sklearn.metrics import classification_report,confusion_matrix\n",
    "y_pred_train = classifier.predict(x_train)\n",
    "report = classification_report(y_true=y_train,y_pred=y_pred_train)\n",
    "matrix = confusion_matrix(y_true=y_train,y_pred=y_pred_train)\n",
    "print(\"Training Set:\")\n",
    "print(report)\n",
    "print(matrix)\n",
    "plt.matshow(matrix)\n",
    "plt.colorbar()\n",
    "plt.xlabel(\"Real class\")\n",
    "plt.ylabel(\"Predicted class\")"
   ]
  },
  {
   "cell_type": "code",
   "execution_count": 27,
   "metadata": {},
   "outputs": [
    {
     "name": "stdout",
     "output_type": "stream",
     "text": [
      "Testing Set:\n",
      "             precision    recall  f1-score   support\n",
      "\n",
      "          0       1.00      1.00      1.00        10\n",
      "          1       0.48      1.00      0.65        11\n",
      "          2       0.00      0.00      0.00        12\n",
      "\n",
      "avg / total       0.46      0.64      0.52        33\n",
      "\n",
      "[[10  0  0]\n",
      " [ 0 11  0]\n",
      " [ 0 12  0]]\n"
     ]
    },
    {
     "name": "stderr",
     "output_type": "stream",
     "text": [
      "/home/brain/miniconda3/lib/python3.6/site-packages/sklearn/metrics/classification.py:1135: UndefinedMetricWarning: Precision and F-score are ill-defined and being set to 0.0 in labels with no predicted samples.\n",
      "  'precision', 'predicted', average, warn_for)\n"
     ]
    },
    {
     "data": {
      "text/plain": [
       "Text(0,0.5,'Predicted class')"
      ]
     },
     "execution_count": 27,
     "metadata": {},
     "output_type": "execute_result"
    },
    {
     "data": {
      "image/png": "[encoded data removed]",
      "text/plain": [
       "<Figure size 288x288 with 2 Axes>"
      ]
     },
     "metadata": {},
     "output_type": "display_data"
    }
   ],
   "source": [
    "### CELL TO BE COMPLETED - Generate the report and confusion matrix for the test set.\n",
    "from sklearn.metrics import classification_report,confusion_matrix\n",
    "y_pred_train = classifier.predict(x_test)\n",
    "report = classification_report(y_true=y_test,y_pred=y_pred_train)\n",
    "matrix = confusion_matrix(y_true=y_test,y_pred=y_pred_train)\n",
    "print(\"Testing Set:\")\n",
    "print(report)\n",
    "print(matrix)\n",
    "plt.matshow(matrix)\n",
    "plt.colorbar()\n",
    "plt.xlabel(\"Real class\")\n",
    "plt.ylabel(\"Predicted class\")"
   ]
  },
  {
   "cell_type": "markdown",
   "metadata": {},
   "source": [
    "Finally we are going to plot the decision boundaries from our model. For this you should use the function plot_boundaries given below. You can only do this if the tensor representing your data is two dimensional.\n",
    "\n",
    "This function will be testing our model with values ranging from the smallest x to the highest x and from the lowest y to the highest y each varying by $h$ and plotting it nicely. [Link to the original implementation](http://scikit-learn.org/stable/auto_examples/neighbors/plot_classification.html#sphx-glr-auto-examples-neighbors-plot-classification-py)"
   ]
  },
  {
   "cell_type": "code",
   "execution_count": 28,
   "metadata": {},
   "outputs": [],
   "source": [
    "np.ravel?\n"
   ]
  },
  {
   "cell_type": "code",
   "execution_count": 29,
   "metadata": {},
   "outputs": [
    {
     "data": {
      "image/png": "[encoded data removed]",
      "text/plain": [
       "<Figure size 432x288 with 1 Axes>"
      ]
     },
     "metadata": {},
     "output_type": "display_data"
    }
   ],
   "source": [
    "from matplotlib.colors import ListedColormap\n",
    "def plot_boundaries(classifier,X,Y,h=0.01):\n",
    "    x0_min, x0_max = X[:, 0].min() - 1, X[:, 0].max() + 1\n",
    "    x1_min, x1_max = X[:, 1].min() - 1, X[:, 1].max() + 1\n",
    "    x0, x1 = np.meshgrid(np.arange(x0_min, x0_max,h),\n",
    "                         np.arange(x1_min, x1_max,h))\n",
    "    dataset = np.c_[x0.ravel(),x1.ravel()]\n",
    "    Z = classifier.predict(dataset)\n",
    "    # Put the result into a color plot\n",
    "    Z = Z.reshape(x0.shape)\n",
    "    plt.figure()\n",
    "    plt.pcolormesh(x0, x1, Z)\n",
    "\n",
    "    # Plot also the training points\n",
    "    plt.scatter(X[:, 0], X[:, 1], c=Y,\n",
    "                edgecolor='k', s=20)\n",
    "    plt.xlim(x0.min(), x0.max())\n",
    "    plt.ylim(x1.min(), x1.max())\n",
    "plot_boundaries(classifier,x_train,y_train)"
   ]
  },
  {
   "cell_type": "markdown",
   "metadata": {},
   "source": [
    "Part 2 - Generating PyRat datasets\n",
    "--\n",
    "First and foremost you need the latest version of PyRat. To do that, just clone the [official PyRat repository](https://github.com/vgripon/pyrat). \n",
    "\n",
    "Syntax is \"git clone repo destinationdir\""
   ]
  },
  {
   "cell_type": "code",
   "execution_count": null,
   "metadata": {},
   "outputs": [],
   "source": [
    "### TO DO : open a terminal tab / window and clone the repo."
   ]
  },
  {
   "cell_type": "markdown",
   "metadata": {},
   "source": [
    "You can now launch Pyrat Games. \n",
    "\n",
    "In the context of the AI course, we are going to simplify the rules of PyRat a bit.\n",
    "In fact, we are going to remove all walls and mud penalties. Also, we are not going to consider symmetric mazes anymore.\n",
    "\n",
    "As such, a default game would be obtained with the following parameters:\n",
    "<pre>python3 pyrat.py -p 40 -md 0 -d 0 --nonsymmetric</pre>\n",
    "\n",
    "In the supervised and unsupervised projects, we are going to obtain data while looking at plays between two greedy algorithms. Generating 1000 such games while saving data is easily obtained with PyRat by using:\n",
    "<pre>python3 pyrat.py -p 40 -md 0 -d 0 --nonsymmetric --rat AIs/manh.py --python AIs/manh.py --tests 1000 --nodrawing --synchronous --save</pre>\n",
    "\n",
    "We recommend that you open another Terminal to launch this command, because generating 1000 games will take a few minutes, and you won't be able to evaluate any other cell from the jupyter notebook. \n",
    "\n",
    "It is possible to open a terminal window from the \"Home\" Interface of Jupyter Notebook.\n",
    "\n",
    "PS: If you don't have pygame installed in your machine you can open a terminal and run\n",
    "\n",
    "\n",
    "<pre>pip install pygame</pre>\n"
   ]
  },
  {
   "cell_type": "markdown",
   "metadata": {},
   "source": [
    "The 1000 generated games will be in the \"saves\" folder."
   ]
  },
  {
   "cell_type": "code",
   "execution_count": null,
   "metadata": {},
   "outputs": [],
   "source": [
    "### TO DO : open a terminal tab / window and launch the command to generate the games\n"
   ]
  },
  {
   "cell_type": "markdown",
   "metadata": {},
   "source": [
    "To convert the games into numpy arrays, we will make use of a few functions that we define here. Feel try to modify it later to your own needs. "
   ]
  },
  {
   "cell_type": "code",
   "execution_count": 37,
   "metadata": {},
   "outputs": [],
   "source": [
    "mazeHeight = 15\n",
    "mazeWidth = 21\n",
    "\n",
    "\n",
    "def convert_input(maze, mazeWidth, mazeHeight, piecesOfCheese):\n",
    "    im_size = (mazeWidth, mazeHeight) \n",
    "    canvas = np.zeros(im_size,dtype=np.int8)\n",
    "    for (x_cheese,y_cheese) in piecesOfCheese:\n",
    "        canvas[x_cheese,y_cheese] = 1\n",
    "    # For use with sklearn, we flatten the matrix into an vector\n",
    "    return canvas.ravel()\n",
    "\n",
    "PHRASES = {\n",
    "    \"# Random seed\\n\": \"seed\",\n",
    "    \"# MazeMap\\n\": \"maze\",\n",
    "    \"# Pieces of cheese\\n\": \"pieces\"    ,\n",
    "    \"# Rat initial location\\n\": \"rat\"    ,\n",
    "    \"# Python initial location\\n\": \"python\"   , \n",
    "    \"rat_location then python_location then pieces_of_cheese then rat_decision then python_decision\\n\": \"play\"\n",
    "}\n",
    " \n",
    "MOVE_DOWN = 'D'\n",
    "MOVE_LEFT = 'L'\n",
    "MOVE_RIGHT = 'R'\n",
    "MOVE_UP = 'U'\n",
    " \n",
    "translate_action = {\n",
    "    MOVE_LEFT:0,\n",
    "    MOVE_RIGHT:1,\n",
    "    MOVE_UP:2,\n",
    "    MOVE_DOWN:3\n",
    "}\n",
    " \n",
    "def process_file(filename):\n",
    "    f = open(filename,\"r\")    \n",
    "    info = f.readline()\n",
    "    params = dict(play=list())\n",
    "    while info is not None:\n",
    "        if info.startswith(\"{\"):\n",
    "            params[\"end\"] = ast.literal_eval(info)\n",
    "            break\n",
    "        if \"turn \" in info:\n",
    "            info = info[info.find('rat_location'):]\n",
    "        if info in PHRASES.keys():\n",
    "            param = PHRASES[info]\n",
    "            if param == \"play\":\n",
    "                rat = ast.literal_eval(f.readline())\n",
    "                python = ast.literal_eval(f.readline())\n",
    "                pieces = ast.literal_eval(f.readline())\n",
    "                rat_decision = f.readline().replace(\"\\n\",\"\")\n",
    "                python_decision = f.readline().replace(\"\\n\",\"\")\n",
    "                play_dict = dict(\n",
    "                    rat=rat,python=python,piecesOfCheese=pieces,\n",
    "                    rat_decision=rat_decision,python_decision=python_decision)\n",
    "                params[param].append(play_dict)\n",
    "            else:\n",
    "                params[param] = ast.literal_eval(f.readline())\n",
    "        else:\n",
    "            print(\"did not understand:\", info)\n",
    "            break\n",
    "        info = f.readline()\n",
    "    return params"
   ]
  },
  {
   "cell_type": "markdown",
   "metadata": {},
   "source": [
    "Now we are ready to parse the \"saves\" folder in order to generate the data into a numpy array. \n",
    "\n"
   ]
  },
  {
   "cell_type": "code",
   "execution_count": 38,
   "metadata": {},
   "outputs": [
    {
     "name": "stderr",
     "output_type": "stream",
     "text": [
      "100%|██████████| 1001/1001 [00:28<00:00, 34.87it/s]\n",
      "100%|██████████| 1000/1000 [00:00<00:00, 13219.73it/s]\n"
     ]
    }
   ],
   "source": [
    "games = list()\n",
    "directory = \"/home/brain/PyRat-master/saves\"\n",
    "for root, dirs, files in os.walk(directory):\n",
    "    for filename in tqdm.tqdm(files):\n",
    "        try:\n",
    "            if filename.startswith(\".\"):\n",
    "                continue\n",
    "            game_params = process_file(directory+'/'+filename)\n",
    "            games.append(game_params)\n",
    "        except:\n",
    "            print(\"Filename {} did not work\".format(filename))\n",
    "\n",
    "x = np.array([]).reshape(0,mazeWidth * mazeHeight)\n",
    "y = np.array([]).reshape(0,1)\n",
    "wins_python = 0\n",
    "wins_rat = 0\n",
    "for game in tqdm.tqdm(games):\n",
    "    if game[\"end\"][\"win_python\"] == 1: \n",
    "        wins_python += 1\n",
    "    elif game[\"end\"][\"win_rat\"] == 1:\n",
    "        wins_rat += 1    \n",
    "    canvas = convert_input(game[\"maze\"], mazeWidth, mazeHeight, game[\"play\"][0][\"piecesOfCheese\"])\n",
    "    if game[\"end\"][\"win_python\"] == 1:\n",
    "        y = np.append(y,1)\n",
    "    elif game[\"end\"][\"win_rat\"] == 1:\n",
    "        y = np.append(y,-1)\n",
    "    else:\n",
    "        y = np.append(y,0)\n",
    "    x = np.concatenate([x, canvas.reshape(1,-1)], axis=0)"
   ]
  },
  {
   "cell_type": "markdown",
   "metadata": {},
   "source": [
    "x and y are numpy array, feel free to save them to a .npz file as seen in TP0. "
   ]
  },
  {
   "cell_type": "code",
   "execution_count": 41,
   "metadata": {},
   "outputs": [
    {
     "name": "stdout",
     "output_type": "stream",
     "text": [
      "(1000, 315)\n",
      "(1000,)\n"
     ]
    }
   ],
   "source": [
    "### CELL TO BE COMPLETED\n",
    "### CHECK THE SHAPES OF X AND Y \n",
    "### SAVE X AND Y IN A NPZ FILE \n",
    "print(x.shape)\n",
    "print(y.shape)\n",
    "np.savez(\"samples.npz\",var1=x,var2=y)"
   ]
  },
  {
   "cell_type": "code",
   "execution_count": 56,
   "metadata": {},
   "outputs": [],
   "source": [
    "filename = \"samples.npz\"\n",
    "np.load(filename)['var1']\n",
    "x_pyrat =np.load(filename)['var1']\n",
    "y_pyrat =np.load(filename)['var2']"
   ]
  },
  {
   "cell_type": "markdown",
   "metadata": {},
   "source": [
    "Part 3 - Application to PyRat Datasets\n",
    "--\n",
    "\n",
    "Now it is your turn, generate a pyrat dataset, load it in the notebook and evaluate a KNN classifier using sklearn"
   ]
  },
  {
   "cell_type": "markdown",
   "metadata": {},
   "source": [
    "Complet the following cells by using the X and y vectors generated from the PyRat Games, and test supervised learning using a KNN classifier. \n",
    "\n",
    "Evaluate this simple solution using the classification report and confusion matrices as done above. "
   ]
  },
  {
   "cell_type": "code",
   "execution_count": 57,
   "metadata": {},
   "outputs": [],
   "source": [
    "#split the data\n",
    "from sklearn.model_selection import train_test_split\n",
    "\n",
    "X=x_pyrat\n",
    "Y=y_pyrat\n",
    "\n",
    "x_train, x_test, y_train, y_test = train_test_split(X, Y, test_size=0.33, random_state=0)"
   ]
  },
  {
   "cell_type": "code",
   "execution_count": 61,
   "metadata": {},
   "outputs": [
    {
     "data": {
      "text/plain": [
       "0.5242424242424243"
      ]
     },
     "execution_count": 61,
     "metadata": {},
     "output_type": "execute_result"
    }
   ],
   "source": [
    "from sklearn.neighbors import KNeighborsClassifier\n",
    "k = 20\n",
    "classifier = KNeighborsClassifier(n_neighbors=k,n_jobs=1)\n",
    "\n",
    "### CELL TO BE COMPLETED - train the classifier and get the accuracy in both sets.\n",
    "classifier.fit(x_train,y_train)\n",
    "y_pred=classifier.predict(x_test)\n",
    "classifier.score(x_test,y_test)"
   ]
  },
  {
   "cell_type": "code",
   "execution_count": 62,
   "metadata": {},
   "outputs": [
    {
     "name": "stdout",
     "output_type": "stream",
     "text": [
      "Testing Set:\n",
      "             precision    recall  f1-score   support\n",
      "\n",
      "       -1.0       0.54      0.50      0.52       139\n",
      "        0.0       0.00      0.00      0.00        37\n",
      "        1.0       0.52      0.68      0.59       154\n",
      "\n",
      "avg / total       0.47      0.52      0.49       330\n",
      "\n",
      "[[ 69   1  69]\n",
      " [ 10   0  27]\n",
      " [ 49   1 104]]\n"
     ]
    },
    {
     "data": {
      "text/plain": [
       "Text(0,0.5,'Predicted class')"
      ]
     },
     "execution_count": 62,
     "metadata": {},
     "output_type": "execute_result"
    },
    {
     "data": {
      "image/png": "[encoded data removed]",
      "text/plain": [
       "<Figure size 288x288 with 2 Axes>"
      ]
     },
     "metadata": {},
     "output_type": "display_data"
    }
   ],
   "source": [
    "### CELL TO BE COMPLETED - Generate the report and confusion matrix for the test set.\n",
    "from sklearn.metrics import classification_report,confusion_matrix\n",
    "y_pred_train = classifier.predict(x_test)\n",
    "report = classification_report(y_true=y_test,y_pred=y_pred_train)\n",
    "matrix = confusion_matrix(y_true=y_test,y_pred=y_pred_train)\n",
    "print(\"Testing Set:\")\n",
    "print(report)\n",
    "print(matrix)\n",
    "plt.matshow(matrix)\n",
    "plt.colorbar()\n",
    "plt.xlabel(\"Real class\")\n",
    "plt.ylabel(\"Predicted class\")"
   ]
  },
  {
   "cell_type": "code",
   "execution_count": 64,
   "metadata": {},
   "outputs": [
    {
     "name": "stdout",
     "output_type": "stream",
     "text": [
      "Testing Set:\n",
      "             precision    recall  f1-score   support\n",
      "\n",
      "       -1.0       0.59      0.59      0.59       274\n",
      "        0.0       0.00      0.00      0.00        81\n",
      "        1.0       0.59      0.75      0.66       315\n",
      "\n",
      "avg / total       0.52      0.59      0.55       670\n",
      "\n",
      "[[162   0 112]\n",
      " [ 32   0  49]\n",
      " [ 79   1 235]]\n"
     ]
    },
    {
     "data": {
      "text/plain": [
       "Text(0,0.5,'Predicted class')"
      ]
     },
     "execution_count": 64,
     "metadata": {},
     "output_type": "execute_result"
    },
    {
     "data": {
      "image/png": "[encoded data removed]",
      "text/plain": [
       "<Figure size 288x288 with 2 Axes>"
      ]
     },
     "metadata": {},
     "output_type": "display_data"
    }
   ],
   "source": [
    "### CELL TO BE COMPLETED - Generate the report and confusion matrix for the train set.\n",
    "from sklearn.metrics import classification_report,confusion_matrix\n",
    "y_pred_train = classifier.predict(x_train)\n",
    "report = classification_report(y_true=y_train,y_pred=y_pred_train)\n",
    "matrix = confusion_matrix(y_true=y_train,y_pred=y_pred_train)\n",
    "print(\"Testing Set:\")\n",
    "print(report)\n",
    "print(matrix)\n",
    "plt.matshow(matrix)\n",
    "plt.colorbar()\n",
    "plt.xlabel(\"Real class\")\n",
    "plt.ylabel(\"Predicted class\")"
   ]
  },
  {
   "cell_type": "markdown",
   "metadata": {},
   "source": [
    "Produce the classification report and try to interpret it. Can you figure out why we obtain such scores ? "
   ]
  },
  {
   "cell_type": "markdown",
   "metadata": {},
   "source": [
    "Part 4 - Further tests on PyRat\n",
    "--\n",
    "If you finished part 3, you will have noticed that the performances are very limited, especially when trying to classify the \"draw\" games. \n",
    "\n",
    "In this last part, we suggest you test the following: \n",
    "\n",
    "- Trying to make a binary classification between Pyrat and python wins\n",
    "- Trying to improve the classification performance of draw class by using a balanced dataset for the three classes (i.e. try to have the same number of examples in each class)\n",
    "\n",
    "To go further:\n",
    "- Trying to change the parameters of the maze such as, mazeWidth, mazeHeight, piecesOfCheese,... \n",
    "\n",
    "\n",
    "N.b. When working on your project P1, we expect you to investigate these last questions in order to explore the method you chose."
   ]
  },
  {
   "cell_type": "code",
   "execution_count": null,
   "metadata": {},
   "outputs": [],
   "source": []
  },
  {
   "cell_type": "code",
   "execution_count": 106,
   "metadata": {},
   "outputs": [
    {
     "name": "stdout",
     "output_type": "stream",
     "text": [
      "(array([  0,   1,   2,   3,   4,   5,   9,  10,  11,  12,  13,  14,  15,\n",
      "        16,  18,  19,  21,  22,  24,  25,  26,  27,  29,  30,  31,  32,\n",
      "        33,  34,  35,  36,  37,  38,  39,  40,  41,  42,  44,  45,  46,\n",
      "        47,  48,  49,  50,  51,  52,  53,  54,  55,  56,  57,  58,  59,\n",
      "        60,  61,  62,  63,  64,  65,  67,  68,  69,  70,  71,  72,  73,\n",
      "        74,  75,  76,  77,  78,  79,  81,  82,  83,  84,  85,  86,  87,\n",
      "        88,  89,  90,  91,  92,  94,  95,  96,  97,  98,  99, 100, 101,\n",
      "       102, 103, 104, 105, 106, 107, 108, 109, 111, 112, 113, 114, 115,\n",
      "       116, 117, 118, 119, 120, 121, 122, 123, 124, 125, 126, 127, 128,\n",
      "       129, 131, 133, 134, 135, 136, 137, 138, 139, 140, 141, 142, 143,\n",
      "       144, 145, 146, 147, 148, 149, 150, 151, 152, 155, 156, 157, 159,\n",
      "       160, 161, 162, 163, 164, 165, 167, 169, 170, 171, 173, 174, 175,\n",
      "       176, 177, 178, 179, 180, 181, 182, 183, 184, 185, 187, 188, 189,\n",
      "       190, 191, 192, 193, 194, 195, 196, 197, 198, 199, 200, 201, 203,\n",
      "       204, 205, 206, 207, 209, 210, 211, 213, 214, 215, 217, 218, 220,\n",
      "       221, 222, 223, 224, 226, 227, 228, 229, 230, 231, 232, 233, 234,\n",
      "       235, 236, 237, 238, 239, 240, 241, 242, 243, 244, 246, 247, 248,\n",
      "       249, 250, 251, 253, 255, 256, 257, 258, 259, 260, 261, 262, 265,\n",
      "       266, 268, 269, 270, 271, 273, 274, 275, 276, 277, 278, 279, 280,\n",
      "       281, 282, 283, 284, 287, 288, 289, 290, 292, 293, 294, 295, 298,\n",
      "       299, 300, 301, 302, 303, 304, 305, 307, 308, 309, 310, 312, 313,\n",
      "       314, 315, 316, 317, 318, 319, 320, 321, 322, 323, 324, 325, 326,\n",
      "       327, 328, 329, 330, 331, 332, 333, 334, 335, 336, 337, 338, 339,\n",
      "       340, 341, 342, 343, 344, 345, 346, 347, 348, 349, 350, 351, 352,\n",
      "       353, 354, 355, 357, 358, 359, 360, 361, 362, 363, 364, 365, 366,\n",
      "       367, 368, 369, 370, 371, 372, 373, 374, 375, 376, 377, 378, 379,\n",
      "       380, 381, 382, 383, 384, 385, 386, 388, 389, 390, 391, 392, 393,\n",
      "       394, 395, 396, 397, 398, 399, 400, 401, 402, 403, 404, 405, 406,\n",
      "       407, 408, 409, 410, 411, 412, 413, 414, 415, 416, 417, 419, 420,\n",
      "       421, 422, 424, 425, 426, 428, 429, 430, 431, 432, 433, 434, 435,\n",
      "       436, 437, 438, 439, 440, 441, 442, 443, 444, 445, 446, 447, 448,\n",
      "       449, 451, 452, 454, 456, 457, 458, 459, 460, 461, 462, 463, 464,\n",
      "       465, 467, 469, 470, 471, 472, 473, 474, 475, 476, 477, 479, 480,\n",
      "       481, 482, 483, 484, 485, 486, 487, 488, 489, 490, 492, 493, 494,\n",
      "       495, 496, 497, 498, 499, 500, 501, 502, 503, 505, 506, 507, 508,\n",
      "       510, 512, 513, 514, 515, 516, 517, 518, 519, 520, 521, 524, 525,\n",
      "       526, 527, 528, 529, 530, 531, 532, 533, 534, 535, 536, 537, 540,\n",
      "       541, 542, 543, 544, 545, 546, 548, 549, 550, 551, 552, 553, 554,\n",
      "       555, 556, 557, 558, 559, 560, 562, 563, 564, 565, 566, 567, 568,\n",
      "       570, 571, 573, 574, 575, 576, 578, 580, 582, 583, 584, 585, 586,\n",
      "       587, 588, 589, 590, 591, 592, 593, 594, 595, 596, 597, 598, 599,\n",
      "       600, 602, 603, 604, 605, 606, 607, 608, 610, 611, 612, 613, 614,\n",
      "       616, 617, 618, 619, 620, 621, 622, 623, 624, 625, 626, 627, 628,\n",
      "       629, 630, 631, 632, 633, 636, 638, 639, 641, 642, 643, 644, 645,\n",
      "       646, 647, 648, 650, 651, 652, 653, 656, 658, 659, 660, 661, 662,\n",
      "       663, 664, 665, 666, 667, 668, 669, 670, 671, 672, 673, 674, 675,\n",
      "       676, 677, 678, 679, 680, 681, 682, 683, 684, 685, 686, 687, 688,\n",
      "       689, 690, 691, 692, 693, 694, 695, 697, 698, 700, 701, 702, 703,\n",
      "       705, 706, 707, 708, 709, 710, 711, 712, 713, 714, 715, 717, 718,\n",
      "       719, 720, 721, 722, 723, 724, 725, 726, 727, 728, 729, 730, 731,\n",
      "       732, 733, 734, 735, 736, 737, 738, 739, 740, 741, 743, 744, 745,\n",
      "       746, 747, 748, 749, 750, 751, 752, 753, 754, 755, 756, 757, 759,\n",
      "       760, 762, 763, 764, 765, 766, 767, 769, 770, 772, 776, 777, 779,\n",
      "       780, 781, 782, 783, 784, 785, 788, 790, 791, 792, 793, 794, 797,\n",
      "       798, 799, 800, 801, 802, 803, 804, 805, 806, 808, 809, 810, 811,\n",
      "       812, 813, 815, 816, 817, 818, 819, 820, 821, 823, 824, 825, 826,\n",
      "       827, 828, 829, 832, 833, 834, 835, 837, 838, 839, 840, 841, 842,\n",
      "       843, 844, 845, 846, 847, 849, 851, 852, 853, 854, 855, 857, 858,\n",
      "       859, 860, 861, 862, 863, 864, 865, 866, 867, 869, 870, 871, 872,\n",
      "       873, 874, 875, 876, 878, 879, 880, 881, 882, 883, 884, 885, 886,\n",
      "       888, 889, 890, 891, 892, 893, 894, 895, 896, 897, 898, 899, 900,\n",
      "       901, 902, 903, 904, 905, 906, 907, 908, 909, 910, 911, 912, 913,\n",
      "       914, 916, 917, 918, 919, 921, 922, 923, 924, 925, 926, 927, 929,\n",
      "       931, 932, 933, 935, 936, 937, 938, 939, 940, 941, 942, 943, 945,\n",
      "       946, 947, 948, 949, 950, 951, 952, 953, 954, 955, 956, 957, 958,\n",
      "       959, 960, 961, 962, 963, 965, 966, 967, 968, 969, 970, 971, 972,\n",
      "       973, 974, 975, 976, 977, 978, 979, 980, 981, 982, 983, 984, 985,\n",
      "       986, 987, 988, 989, 990, 991, 992, 994, 996, 998, 999]),)\n"
     ]
    },
    {
     "data": {
      "text/plain": [
       "118"
      ]
     },
     "execution_count": 106,
     "metadata": {},
     "output_type": "execute_result"
    }
   ],
   "source": [
    "indexes = np.where(y_pyrat != 0)\n",
    "indexes\n",
    "print(indexes)\n",
    "y_nodraw = y_pyrat[indexes]\n",
    "x_nodraw = x_pyrat[indexes]\n",
    "index"
   ]
  },
  {
   "cell_type": "code",
   "execution_count": 99,
   "metadata": {},
   "outputs": [],
   "source": [
    "#split the data\n",
    "from sklearn.model_selection import train_test_split\n",
    "x_train, x_test, y_train, y_test = train_test_split(x_nodraw, y_nodraw, test_size=0.4, random_state=0)"
   ]
  },
  {
   "cell_type": "code",
   "execution_count": 100,
   "metadata": {},
   "outputs": [
    {
     "data": {
      "text/plain": [
       "0.5297450424929179"
      ]
     },
     "execution_count": 100,
     "metadata": {},
     "output_type": "execute_result"
    }
   ],
   "source": [
    "from sklearn.neighbors import KNeighborsClassifier\n",
    "k = 4\n",
    "classifier = KNeighborsClassifier(n_neighbors=k,n_jobs=1)\n",
    "\n",
    "### CELL TO BE COMPLETED - train the classifier and get the accuracy in both sets.\n",
    "classifier.fit(x_train,y_train)\n",
    "y_pred=classifier.predict(x_test)\n",
    "classifier.score(x_test,y_test)"
   ]
  },
  {
   "cell_type": "code",
   "execution_count": 101,
   "metadata": {},
   "outputs": [
    {
     "name": "stdout",
     "output_type": "stream",
     "text": [
      "Testing Set:\n",
      "             precision    recall  f1-score   support\n",
      "\n",
      "       -1.0       0.51      0.64      0.57       171\n",
      "        1.0       0.56      0.42      0.48       182\n",
      "\n",
      "avg / total       0.54      0.53      0.52       353\n",
      "\n",
      "[[110  61]\n",
      " [105  77]]\n"
     ]
    },
    {
     "data": {
      "text/plain": [
       "Text(0,0.5,'Predicted class')"
      ]
     },
     "execution_count": 101,
     "metadata": {},
     "output_type": "execute_result"
    },
    {
     "data": {
      "image/png": "[encoded data removed]",
      "text/plain": [
       "<Figure size 288x288 with 2 Axes>"
      ]
     },
     "metadata": {},
     "output_type": "display_data"
    }
   ],
   "source": [
    "### CELL TO BE COMPLETED - Generate the report and confusion matrix for the test set.\n",
    "from sklearn.metrics import classification_report,confusion_matrix\n",
    "y_pred_train = classifier.predict(x_test)\n",
    "report = classification_report(y_true=y_test,y_pred=y_pred_train)\n",
    "matrix = confusion_matrix(y_true=y_test,y_pred=y_pred_train)\n",
    "print(\"Testing Set:\")\n",
    "print(report)\n",
    "print(matrix)\n",
    "plt.matshow(matrix)\n",
    "plt.colorbar()\n",
    "plt.xlabel(\"Real class\")\n",
    "plt.ylabel(\"Predicted class\")"
   ]
  },
  {
   "cell_type": "code",
   "execution_count": 102,
   "metadata": {},
   "outputs": [
    {
     "name": "stdout",
     "output_type": "stream",
     "text": [
      "Testing Set:\n",
      "             precision    recall  f1-score   support\n",
      "\n",
      "       -1.0       0.64      0.86      0.73       242\n",
      "        1.0       0.83      0.59      0.69       287\n",
      "\n",
      "avg / total       0.74      0.71      0.71       529\n",
      "\n",
      "[[207  35]\n",
      " [118 169]]\n"
     ]
    },
    {
     "data": {
      "text/plain": [
       "Text(0,0.5,'Predicted class')"
      ]
     },
     "execution_count": 102,
     "metadata": {},
     "output_type": "execute_result"
    },
    {
     "data": {
      "image/png": "[encoded data removed]",
      "text/plain": [
       "<Figure size 288x288 with 2 Axes>"
      ]
     },
     "metadata": {},
     "output_type": "display_data"
    }
   ],
   "source": [
    "### CELL TO BE COMPLETED - Generate the report and confusion matrix for the train set.\n",
    "from sklearn.metrics import classification_report,confusion_matrix\n",
    "y_pred_train = classifier.predict(x_train)\n",
    "report = classification_report(y_true=y_train,y_pred=y_pred_train)\n",
    "matrix = confusion_matrix(y_true=y_train,y_pred=y_pred_train)\n",
    "print(\"Testing Set:\")\n",
    "print(report)\n",
    "print(matrix)\n",
    "plt.matshow(matrix)\n",
    "plt.colorbar()\n",
    "plt.xlabel(\"Real class\")\n",
    "plt.ylabel(\"Predicted class\")"
   ]
  },
  {
   "cell_type": "code",
   "execution_count": 146,
   "metadata": {},
   "outputs": [
    {
     "data": {
      "text/plain": [
       "array([ 1.,  1.,  1.,  1.,  1.,  1.,  1.,  1.,  1.,  1.,  1.,  1.,  1.,\n",
       "        1.,  1.,  1.,  1.,  1.,  1.,  1.,  1.,  1.,  1.,  1.,  1.,  1.,\n",
       "        1.,  1.,  1.,  1.,  1.,  1.,  1.,  1.,  1.,  1.,  1.,  1.,  1.,\n",
       "        1.,  1.,  1.,  1.,  1.,  1.,  1.,  1.,  1.,  1.,  1.,  1.,  1.,\n",
       "        1.,  1.,  1.,  1.,  1.,  1.,  1.,  1.,  1.,  1.,  1.,  1.,  1.,\n",
       "        1.,  1.,  1.,  1.,  1.,  1.,  1.,  1.,  1.,  1.,  1.,  1.,  1.,\n",
       "        1.,  1.,  1.,  1.,  1.,  1.,  1.,  1.,  1.,  1.,  1.,  1.,  1.,\n",
       "        1.,  1.,  1.,  1.,  1.,  1.,  1.,  1.,  1.,  1.,  1.,  1.,  1.,\n",
       "        1.,  1.,  1.,  1.,  1.,  1.,  1.,  1.,  1.,  1.,  1.,  1.,  1.,\n",
       "        1., -1., -1., -1., -1., -1., -1., -1., -1., -1., -1., -1., -1.,\n",
       "       -1., -1., -1., -1., -1., -1., -1., -1., -1., -1., -1., -1., -1.,\n",
       "       -1., -1., -1., -1., -1., -1., -1., -1., -1., -1., -1., -1., -1.,\n",
       "       -1., -1., -1., -1., -1., -1., -1., -1., -1., -1., -1., -1., -1.,\n",
       "       -1., -1., -1., -1., -1., -1., -1., -1., -1., -1., -1., -1., -1.,\n",
       "       -1., -1., -1., -1., -1., -1., -1., -1., -1., -1., -1., -1., -1.,\n",
       "       -1., -1., -1., -1., -1., -1., -1., -1., -1., -1., -1., -1., -1.,\n",
       "       -1., -1., -1., -1., -1., -1., -1., -1., -1., -1., -1., -1., -1.,\n",
       "       -1., -1., -1., -1., -1., -1., -1., -1., -1., -1., -1., -1., -1.,\n",
       "       -1., -1.,  0.,  0.,  0.,  0.,  0.,  0.,  0.,  0.,  0.,  0.,  0.,\n",
       "        0.,  0.,  0.,  0.,  0.,  0.,  0.,  0.,  0.,  0.,  0.,  0.,  0.,\n",
       "        0.,  0.,  0.,  0.,  0.,  0.,  0.,  0.,  0.,  0.,  0.,  0.,  0.,\n",
       "        0.,  0.,  0.,  0.,  0.,  0.,  0.,  0.,  0.,  0.,  0.,  0.,  0.,\n",
       "        0.,  0.,  0.,  0.,  0.,  0.,  0.,  0.,  0.,  0.,  0.,  0.,  0.,\n",
       "        0.,  0.,  0.,  0.,  0.,  0.,  0.,  0.,  0.,  0.,  0.,  0.,  0.,\n",
       "        0.,  0.,  0.,  0.,  0.,  0.,  0.,  0.,  0.,  0.,  0.,  0.,  0.,\n",
       "        0.,  0.,  0.,  0.,  0.,  0.,  0.,  0.,  0.,  0.,  0.,  0.,  0.,\n",
       "        0.,  0.,  0.,  0.,  0.,  0.,  0.,  0.,  0.,  0.,  0.,  0.,  0.,\n",
       "        0.,  0.,  0.])"
      ]
     },
     "execution_count": 146,
     "metadata": {},
     "output_type": "execute_result"
    }
   ],
   "source": [
    "#Using three balanced classes\n",
    "x_p = np.concatenate((x_pyrat[np.where (y_pyrat == 1)][:index],x_pyrat[np.where(y_pyrat == -1)][:index],x_pyrat[np.where(y_pyrat == 0)]))\n",
    "y_p = np.concatenate((y_pyrat[np.where (y_pyrat == 1)][:index],y_pyrat[np.where(y_pyrat == -1)][:index],y_pyrat[np.where(y_pyrat == 0)]))\n",
    "y_p"
   ]
  },
  {
   "cell_type": "code",
   "execution_count": 147,
   "metadata": {},
   "outputs": [],
   "source": [
    "#split the data\n",
    "from sklearn.model_selection import train_test_split\n",
    "x_train, x_test, y_train, y_test = train_test_split(x_p, y_p, test_size=0.2, random_state=0)"
   ]
  },
  {
   "cell_type": "code",
   "execution_count": 148,
   "metadata": {},
   "outputs": [
    {
     "data": {
      "text/plain": [
       "0.3380281690140845"
      ]
     },
     "execution_count": 148,
     "metadata": {},
     "output_type": "execute_result"
    }
   ],
   "source": [
    "from sklearn.neighbors import KNeighborsClassifier\n",
    "k = 1\n",
    "classifier = KNeighborsClassifier(n_neighbors=k,n_jobs=1)\n",
    "\n",
    "### CELL TO BE COMPLETED - train the classifier and get the accuracy in both sets.\n",
    "classifier.fit(x_train,y_train)\n",
    "y_pred=classifier.predict(x_test)\n",
    "classifier.score(x_test,y_test)"
   ]
  },
  {
   "cell_type": "code",
   "execution_count": 149,
   "metadata": {},
   "outputs": [
    {
     "name": "stdout",
     "output_type": "stream",
     "text": [
      "Testing Set:\n",
      "             precision    recall  f1-score   support\n",
      "\n",
      "       -1.0       0.30      0.38      0.33        21\n",
      "        0.0       0.29      0.41      0.34        22\n",
      "        1.0       0.54      0.25      0.34        28\n",
      "\n",
      "avg / total       0.39      0.34      0.34        71\n",
      "\n",
      "[[ 8 11  2]\n",
      " [ 9  9  4]\n",
      " [10 11  7]]\n"
     ]
    },
    {
     "data": {
      "text/plain": [
       "Text(0,0.5,'Predicted class')"
      ]
     },
     "execution_count": 149,
     "metadata": {},
     "output_type": "execute_result"
    },
    {
     "data": {
      "image/png": "[encoded data removed]",
      "text/plain": [
       "<Figure size 288x288 with 2 Axes>"
      ]
     },
     "metadata": {},
     "output_type": "display_data"
    }
   ],
   "source": [
    "### CELL TO BE COMPLETED - Generate the report and confusion matrix for the test set.\n",
    "from sklearn.metrics import classification_report,confusion_matrix\n",
    "y_pred_train = classifier.predict(x_test)\n",
    "report = classification_report(y_true=y_test,y_pred=y_pred_train)\n",
    "matrix = confusion_matrix(y_true=y_test,y_pred=y_pred_train)\n",
    "print(\"Testing Set:\")\n",
    "print(report)\n",
    "print(matrix)\n",
    "plt.matshow(matrix)\n",
    "plt.colorbar()\n",
    "plt.xlabel(\"Real class\")\n",
    "plt.ylabel(\"Predicted class\")"
   ]
  },
  {
   "cell_type": "code",
   "execution_count": 150,
   "metadata": {},
   "outputs": [
    {
     "name": "stdout",
     "output_type": "stream",
     "text": [
      "Testing Set:\n",
      "             precision    recall  f1-score   support\n",
      "\n",
      "       -1.0       1.00      1.00      1.00        97\n",
      "        0.0       1.00      1.00      1.00        96\n",
      "        1.0       1.00      1.00      1.00        90\n",
      "\n",
      "avg / total       1.00      1.00      1.00       283\n",
      "\n",
      "[[97  0  0]\n",
      " [ 0 96  0]\n",
      " [ 0  0 90]]\n"
     ]
    },
    {
     "data": {
      "text/plain": [
       "Text(0,0.5,'Predicted class')"
      ]
     },
     "execution_count": 150,
     "metadata": {},
     "output_type": "execute_result"
    },
    {
     "data": {
      "image/png": "[encoded data removed]",
      "text/plain": [
       "<Figure size 288x288 with 2 Axes>"
      ]
     },
     "metadata": {},
     "output_type": "display_data"
    }
   ],
   "source": [
    "### CELL TO BE COMPLETED - Generate the report and confusion matrix for the train set.\n",
    "from sklearn.metrics import classification_report,confusion_matrix\n",
    "y_pred_train = classifier.predict(x_train)\n",
    "report = classification_report(y_true=y_train,y_pred=y_pred_train)\n",
    "matrix = confusion_matrix(y_true=y_train,y_pred=y_pred_train)\n",
    "print(\"Testing Set:\")\n",
    "print(report)\n",
    "print(matrix)\n",
    "plt.matshow(matrix)\n",
    "plt.colorbar()\n",
    "plt.xlabel(\"Real class\")\n",
    "plt.ylabel(\"Predicted class\")"
   ]
  }
 ],
 "metadata": {
  "kernelspec": {
   "display_name": "Python 2",
   "language": "python",
   "name": "python2"
  },
  "language_info": {
   "codemirror_mode": {
    "name": "ipython",
    "version": 2
   },
   "file_extension": ".py",
   "mimetype": "text/x-python",
   "name": "python",
   "nbconvert_exporter": "python",
   "pygments_lexer": "ipython2",
   "version": "2.7.15"
  }
 },
 "nbformat": 4,
 "nbformat_minor": 2
}
